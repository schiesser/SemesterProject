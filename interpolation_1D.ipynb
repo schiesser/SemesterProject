{
 "cells": [
  {
   "cell_type": "code",
   "execution_count": 1,
   "id": "5c879b14-518e-46a8-a44a-947b41f3fc59",
   "metadata": {
    "execution": {
     "iopub.execute_input": "2024-03-11T08:35:54.857197Z",
     "iopub.status.busy": "2024-03-11T08:35:54.856038Z",
     "iopub.status.idle": "2024-03-11T08:35:56.116305Z",
     "shell.execute_reply": "2024-03-11T08:35:56.115313Z",
     "shell.execute_reply.started": "2024-03-11T08:35:54.857092Z"
    },
    "tags": []
   },
   "outputs": [],
   "source": [
    "import numpy as np\n",
    "import akantu as aka\n",
    "from variationnal_operator_function import *\n",
    "from plot import *"
   ]
  },
  {
   "cell_type": "markdown",
   "id": "efecb0f2-e8d7-446a-9d69-4d801ee728c6",
   "metadata": {
    "tags": []
   },
   "source": [
    "#### Mesh generation (1D) :"
   ]
  },
  {
   "cell_type": "code",
   "execution_count": 2,
   "id": "98c920fe-c590-4bb1-b8bb-8f598384da9e",
   "metadata": {
    "execution": {
     "iopub.execute_input": "2024-03-11T08:35:57.025374Z",
     "iopub.status.busy": "2024-03-11T08:35:57.024375Z",
     "iopub.status.idle": "2024-03-11T08:35:57.035969Z",
     "shell.execute_reply": "2024-03-11T08:35:57.033551Z",
     "shell.execute_reply.started": "2024-03-11T08:35:57.025298Z"
    },
    "tags": []
   },
   "outputs": [],
   "source": [
    "mesh_file = \"\"\"\n",
    "Point(1) = {0, 0, 0, 0.1};\n",
    "Point(2) = {1, 0, 0, 0.1};\n",
    "\"\"\""
   ]
  },
  {
   "cell_type": "code",
   "execution_count": 3,
   "id": "4397cf2b-34e0-47a6-9a64-7e53361e747c",
   "metadata": {
    "execution": {
     "iopub.execute_input": "2024-03-11T08:35:57.204308Z",
     "iopub.status.busy": "2024-03-11T08:35:57.203544Z",
     "iopub.status.idle": "2024-03-11T08:35:57.214297Z",
     "shell.execute_reply": "2024-03-11T08:35:57.211901Z",
     "shell.execute_reply.started": "2024-03-11T08:35:57.204242Z"
    },
    "tags": []
   },
   "outputs": [],
   "source": [
    "mesh_file += \"\"\"\n",
    "Line(1) = {1, 2};\n",
    "\"\"\""
   ]
  },
  {
   "cell_type": "code",
   "execution_count": 4,
   "id": "42272887-8e6e-46d4-9209-33eecbce03fc",
   "metadata": {
    "execution": {
     "iopub.execute_input": "2024-03-11T08:35:57.925654Z",
     "iopub.status.busy": "2024-03-11T08:35:57.924792Z",
     "iopub.status.idle": "2024-03-11T08:35:58.579949Z",
     "shell.execute_reply": "2024-03-11T08:35:58.577439Z",
     "shell.execute_reply.started": "2024-03-11T08:35:57.925578Z"
    },
    "tags": []
   },
   "outputs": [
    {
     "name": "stdout",
     "output_type": "stream",
     "text": [
      "Info    : Running '/home/tarantino/.pyenv/versions/3.10.4/bin/gmsh -2 -order 1 -o segment.msh segment.geo' [Gmsh 4.11.1, 1 node, max. 1 thread]\n",
      "Info    : Started on Mon Mar 11 18:22:27 2024\n",
      "Info    : Reading 'segment.geo'...\n",
      "Info    : Done reading 'segment.geo'\n",
      "Info    : Meshing 1D...\n",
      "Info    : Meshing curve 1 (Line)\n",
      "Info    : Done meshing 1D (Wall 7.9863e-05s, CPU 2.9e-05s)\n",
      "Info    : Meshing 2D...\n",
      "Info    : Done meshing 2D (Wall 1.0922e-05s, CPU 3e-06s)\n",
      "Info    : 11 nodes 12 elements\n",
      "Info    : Writing 'segment.msh'...\n",
      "Info    : Done writing 'segment.msh'\n",
      "Info    : Stopped on Mon Mar 11 18:22:27 2024 (From start: Wall 0.00137441s, CPU 0.447313s)\n",
      "Mesh generated\n",
      "\n"
     ]
    }
   ],
   "source": [
    "open(\"segment.geo\", 'w').write(mesh_file)\n",
    "\n",
    "points, conn = meshGeo('segment.geo', dim=1, order=1)"
   ]
  },
  {
   "cell_type": "code",
   "execution_count": 5,
   "id": "927f1919-dd33-4d18-8fa8-2d77013930e0",
   "metadata": {
    "execution": {
     "iopub.execute_input": "2024-03-11T08:35:58.584558Z",
     "iopub.status.busy": "2024-03-11T08:35:58.583815Z",
     "iopub.status.idle": "2024-03-11T08:35:58.842190Z",
     "shell.execute_reply": "2024-03-11T08:35:58.840389Z",
     "shell.execute_reply.started": "2024-03-11T08:35:58.584490Z"
    },
    "tags": []
   },
   "outputs": [
    {
     "data": {
      "image/png": "[encoded data removed]",
      "text/plain": [
       "<Figure size 640x480 with 1 Axes>"
      ]
     },
     "metadata": {},
     "output_type": "display_data"
    }
   ],
   "source": [
    "plotMesh(points, conn)"
   ]
  },
  {
   "cell_type": "code",
   "execution_count": 6,
   "id": "de9e9434-4a21-4378-a94e-bd11ad4fbe4f",
   "metadata": {
    "execution": {
     "iopub.execute_input": "2024-03-11T08:35:59.205483Z",
     "iopub.status.busy": "2024-03-11T08:35:59.204643Z",
     "iopub.status.idle": "2024-03-11T08:35:59.221237Z",
     "shell.execute_reply": "2024-03-11T08:35:59.219161Z",
     "shell.execute_reply.started": "2024-03-11T08:35:59.205406Z"
    },
    "tags": []
   },
   "outputs": [
    {
     "data": {
      "text/plain": [
       "array([[ 0,  2],\n",
       "       [ 2,  3],\n",
       "       [ 3,  4],\n",
       "       [ 4,  5],\n",
       "       [ 5,  6],\n",
       "       [ 6,  7],\n",
       "       [ 7,  8],\n",
       "       [ 8,  9],\n",
       "       [ 9, 10],\n",
       "       [10,  1]])"
      ]
     },
     "execution_count": 6,
     "metadata": {},
     "output_type": "execute_result"
    }
   ],
   "source": [
    "conn"
   ]
  },
  {
   "cell_type": "code",
   "execution_count": 7,
   "id": "f5117cb4-72a6-463e-878b-345949a37852",
   "metadata": {
    "execution": {
     "iopub.execute_input": "2024-03-11T08:36:00.054883Z",
     "iopub.status.busy": "2024-03-11T08:36:00.054043Z",
     "iopub.status.idle": "2024-03-11T08:36:00.091315Z",
     "shell.execute_reply": "2024-03-11T08:36:00.089387Z",
     "shell.execute_reply.started": "2024-03-11T08:36:00.054810Z"
    },
    "tags": []
   },
   "outputs": [],
   "source": [
    "# reading the mesh\n",
    "spatial_dimension = 1    \n",
    "mesh_file = 'segment.msh'\n",
    "mesh = aka.Mesh(spatial_dimension)\n",
    "mesh.read(mesh_file)"
   ]
  },
  {
   "cell_type": "markdown",
   "id": "ecf219d2-8baf-4a8e-9ff0-497e7aa039ed",
   "metadata": {},
   "source": [
    "#### Support declaration"
   ]
  },
  {
   "cell_type": "code",
   "execution_count": 8,
   "id": "5bd75785-144a-468c-a1f3-33c3c82dc871",
   "metadata": {
    "execution": {
     "iopub.execute_input": "2024-03-11T08:36:01.675561Z",
     "iopub.status.busy": "2024-03-11T08:36:01.674606Z",
     "iopub.status.idle": "2024-03-11T08:36:01.690099Z",
     "shell.execute_reply": "2024-03-11T08:36:01.687662Z",
     "shell.execute_reply.started": "2024-03-11T08:36:01.675481Z"
    },
    "tags": []
   },
   "outputs": [],
   "source": [
    "model = aka.SolidMechanicsModel(mesh)\n",
    "#model.initFull(_analysis_method=aka._static)"
   ]
  },
  {
   "cell_type": "code",
   "execution_count": 9,
   "id": "311d0886-cb8d-4db3-9805-8c5172085cd4",
   "metadata": {
    "execution": {
     "iopub.execute_input": "2024-03-11T08:36:02.305167Z",
     "iopub.status.busy": "2024-03-11T08:36:02.304372Z",
     "iopub.status.idle": "2024-03-11T08:36:02.318833Z",
     "shell.execute_reply": "2024-03-11T08:36:02.316695Z",
     "shell.execute_reply.started": "2024-03-11T08:36:02.305097Z"
    },
    "tags": []
   },
   "outputs": [],
   "source": [
    "elem_filter = np.array([])\n",
    "fem = model.getFEEngine()\n",
    "spatial_dimension = 2\n",
    "elemtype = aka._segment_2\n",
    "ghost_type = aka.GhostType(1) #comment avoir ghost_type vide?\n",
    "Sup = Support(elem_filter, fem, spatial_dimension, elemtype, ghost_type)"
   ]
  },
  {
   "cell_type": "markdown",
   "id": "35d3731a-a497-42b2-837e-7fd1f4849806",
   "metadata": {},
   "source": [
    "#### Interpolation"
   ]
  },
  {
   "cell_type": "code",
   "execution_count": 10,
   "id": "a6f28a13-30bd-401a-9ed3-491efafb336c",
   "metadata": {
    "execution": {
     "iopub.execute_input": "2024-03-11T08:36:03.404941Z",
     "iopub.status.busy": "2024-03-11T08:36:03.404165Z",
     "iopub.status.idle": "2024-03-11T08:36:03.416434Z",
     "shell.execute_reply": "2024-03-11T08:36:03.414115Z",
     "shell.execute_reply.started": "2024-03-11T08:36:03.404872Z"
    },
    "jupyter": {
     "source_hidden": true
    },
    "tags": []
   },
   "outputs": [],
   "source": [
    "# create a field  \n",
    "nodes = mesh.getNodes()\n",
    "nodal_field=np.ones(nodes.shape)*3"
   ]
  },
  {
   "cell_type": "code",
   "execution_count": 11,
   "id": "1b13ff06-fb04-490d-92f8-797f3649e062",
   "metadata": {
    "execution": {
     "iopub.execute_input": "2024-03-11T08:36:03.974496Z",
     "iopub.status.busy": "2024-03-11T08:36:03.973595Z",
     "iopub.status.idle": "2024-03-11T08:36:03.987734Z",
     "shell.execute_reply": "2024-03-11T08:36:03.984546Z",
     "shell.execute_reply.started": "2024-03-11T08:36:03.974418Z"
    },
    "tags": []
   },
   "outputs": [],
   "source": [
    "# output vector (will be filled by the method \"interpolateOnIntegrationPoints\")\n",
    "## to adapt depending on the number of quadrature points (support)\n",
    "nbr_elem = mesh.getConnectivity(Sup.elemtype).shape[0]\n",
    "output=np.zeros((nbr_elem,spatial_dimension))"
   ]
  },
  {
   "cell_type": "code",
   "execution_count": 12,
   "id": "483f95ef-8030-4cf2-9d0e-cd08f0dec3fc",
   "metadata": {
    "execution": {
     "iopub.execute_input": "2024-03-11T08:36:04.444864Z",
     "iopub.status.busy": "2024-03-11T08:36:04.443972Z",
     "iopub.status.idle": "2024-03-11T08:36:04.457263Z",
     "shell.execute_reply": "2024-03-11T08:36:04.454005Z",
     "shell.execute_reply.started": "2024-03-11T08:36:04.444787Z"
    },
    "tags": []
   },
   "outputs": [],
   "source": [
    "NTF = NodalTensorField(\"ex_displacement\", Sup, nodal_field)"
   ]
  },
  {
   "cell_type": "code",
   "execution_count": 13,
   "id": "7f3d534f-bedc-4a20-9502-be6d2d2a0105",
   "metadata": {
    "execution": {
     "iopub.execute_input": "2024-03-11T08:36:04.996245Z",
     "iopub.status.busy": "2024-03-11T08:36:04.994632Z",
     "iopub.status.idle": "2024-03-11T08:36:05.275789Z",
     "shell.execute_reply": "2024-03-11T08:36:05.273733Z",
     "shell.execute_reply.started": "2024-03-11T08:36:04.996162Z"
    },
    "tags": []
   },
   "outputs": [],
   "source": [
    "output = aka.ElementTypeMapArrayReal()\n",
    "output.initialize(mesh, nb_component=1)\n",
    "NTF.evalOnQuadraturePoints(output)"
   ]
  },
  {
   "cell_type": "code",
   "execution_count": 16,
   "id": "1ed08da2",
   "metadata": {},
   "outputs": [
    {
     "data": {
      "text/plain": [
       "array([[3.],\n",
       "       [3.],\n",
       "       [3.],\n",
       "       [3.],\n",
       "       [3.],\n",
       "       [3.],\n",
       "       [3.],\n",
       "       [3.],\n",
       "       [3.],\n",
       "       [3.]])"
      ]
     },
     "execution_count": 16,
     "metadata": {},
     "output_type": "execute_result"
    }
   ],
   "source": [
    "output(aka._segment_2)"
   ]
  },
  {
   "cell_type": "code",
   "execution_count": null,
   "id": "6037d75b",
   "metadata": {},
   "outputs": [],
   "source": []
  }
 ],
 "metadata": {
  "hide_input": false,
  "kernelspec": {
   "display_name": "Python 3 (ipykernel)",
   "language": "python",
   "name": "python3"
  },
  "language_info": {
   "codemirror_mode": {
    "name": "ipython",
    "version": 3
   },
   "file_extension": ".py",
   "mimetype": "text/x-python",
   "name": "python",
   "nbconvert_exporter": "python",
   "pygments_lexer": "ipython3",
   "version": "3.10.4"
  }
 },
 "nbformat": 4,
 "nbformat_minor": 5
}
