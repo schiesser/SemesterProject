{
 "cells": [
  {
   "cell_type": "code",
   "execution_count": 1,
   "id": "5c879b14-518e-46a8-a44a-947b41f3fc59",
   "metadata": {
    "execution": {
     "iopub.execute_input": "2024-03-12T09:36:51.630821Z",
     "iopub.status.busy": "2024-03-12T09:36:51.630099Z",
     "iopub.status.idle": "2024-03-12T09:36:52.990570Z",
     "shell.execute_reply": "2024-03-12T09:36:52.989389Z",
     "shell.execute_reply.started": "2024-03-12T09:36:51.630751Z"
    },
    "tags": []
   },
   "outputs": [],
   "source": [
    "import numpy as np\n",
    "import akantu as aka\n",
    "from variationnal_operator_function import *\n",
    "from plot import *"
   ]
  },
  {
   "cell_type": "markdown",
   "id": "efecb0f2-e8d7-446a-9d69-4d801ee728c6",
   "metadata": {
    "tags": []
   },
   "source": [
    "#### Mesh generation (1D) :"
   ]
  },
  {
   "cell_type": "code",
   "execution_count": 2,
   "id": "98c920fe-c590-4bb1-b8bb-8f598384da9e",
   "metadata": {
    "execution": {
     "iopub.execute_input": "2024-03-12T09:36:52.993201Z",
     "iopub.status.busy": "2024-03-12T09:36:52.992776Z",
     "iopub.status.idle": "2024-03-12T09:36:52.999167Z",
     "shell.execute_reply": "2024-03-12T09:36:52.998341Z",
     "shell.execute_reply.started": "2024-03-12T09:36:52.993172Z"
    },
    "tags": []
   },
   "outputs": [],
   "source": [
    "mesh_file = \"\"\"\n",
    "Point(1) = {0, 0, 0, 0.1};\n",
    "Point(2) = {1, 0, 0, 0.1};\n",
    "\"\"\""
   ]
  },
  {
   "cell_type": "code",
   "execution_count": 3,
   "id": "4397cf2b-34e0-47a6-9a64-7e53361e747c",
   "metadata": {
    "execution": {
     "iopub.execute_input": "2024-03-12T09:36:53.000650Z",
     "iopub.status.busy": "2024-03-12T09:36:53.000332Z",
     "iopub.status.idle": "2024-03-12T09:36:53.078564Z",
     "shell.execute_reply": "2024-03-12T09:36:53.076040Z",
     "shell.execute_reply.started": "2024-03-12T09:36:53.000620Z"
    },
    "tags": []
   },
   "outputs": [],
   "source": [
    "mesh_file += \"\"\"\n",
    "Line(1) = {1, 2};\n",
    "\"\"\""
   ]
  },
  {
   "cell_type": "code",
   "execution_count": 4,
   "id": "42272887-8e6e-46d4-9209-33eecbce03fc",
   "metadata": {
    "execution": {
     "iopub.execute_input": "2024-03-12T09:36:53.083210Z",
     "iopub.status.busy": "2024-03-12T09:36:53.081644Z",
     "iopub.status.idle": "2024-03-12T09:36:53.904032Z",
     "shell.execute_reply": "2024-03-12T09:36:53.901578Z",
     "shell.execute_reply.started": "2024-03-12T09:36:53.083130Z"
    },
    "tags": []
   },
   "outputs": [
    {
     "name": "stdout",
     "output_type": "stream",
     "text": [
      "Info    : Running '/opt/jlab-env/bin/gmsh -2 -order 1 -o segment.msh segment.geo' [Gmsh 4.11.1, 1 node, max. 1 thread]\n",
      "Info    : Started on Tue Mar 12 10:36:53 2024\n",
      "Info    : Reading 'segment.geo'...\n",
      "Info    : Done reading 'segment.geo'\n",
      "Info    : Meshing 1D...\n",
      "Info    : Meshing curve 1 (Line)\n",
      "Info    : Done meshing 1D (Wall 0.00020662s, CPU 0.000117s)\n",
      "Info    : Meshing 2D...\n",
      "Info    : Done meshing 2D (Wall 2.8949e-05s, CPU 1.6e-05s)\n",
      "Info    : 11 nodes 12 elements\n",
      "Info    : Writing 'segment.msh'...\n",
      "Info    : Done writing 'segment.msh'\n",
      "Info    : Stopped on Tue Mar 12 10:36:53 2024 (From start: Wall 0.0424673s, CPU 0.571205s)\n",
      "Mesh generated\n",
      "\n"
     ]
    }
   ],
   "source": [
    "open(\"segment.geo\", 'w').write(mesh_file)\n",
    "\n",
    "points, conn = meshGeo('segment.geo', dim=1, order=1)"
   ]
  },
  {
   "cell_type": "code",
   "execution_count": 5,
   "id": "927f1919-dd33-4d18-8fa8-2d77013930e0",
   "metadata": {
    "execution": {
     "iopub.execute_input": "2024-03-12T09:36:53.907848Z",
     "iopub.status.busy": "2024-03-12T09:36:53.907102Z",
     "iopub.status.idle": "2024-03-12T09:36:54.209372Z",
     "shell.execute_reply": "2024-03-12T09:36:54.208313Z",
     "shell.execute_reply.started": "2024-03-12T09:36:53.907775Z"
    },
    "tags": []
   },
   "outputs": [
    {
     "data": {
      "image/png": "[encoded data removed]",
      "text/plain": [
       "<Figure size 640x480 with 1 Axes>"
      ]
     },
     "metadata": {},
     "output_type": "display_data"
    }
   ],
   "source": [
    "plotMesh(points, conn)"
   ]
  },
  {
   "cell_type": "code",
   "execution_count": 6,
   "id": "de9e9434-4a21-4378-a94e-bd11ad4fbe4f",
   "metadata": {
    "execution": {
     "iopub.execute_input": "2024-03-12T09:36:54.211152Z",
     "iopub.status.busy": "2024-03-12T09:36:54.210822Z",
     "iopub.status.idle": "2024-03-12T09:36:54.221156Z",
     "shell.execute_reply": "2024-03-12T09:36:54.219944Z",
     "shell.execute_reply.started": "2024-03-12T09:36:54.211120Z"
    },
    "tags": []
   },
   "outputs": [
    {
     "data": {
      "text/plain": [
       "array([[ 0,  2],\n",
       "       [ 2,  3],\n",
       "       [ 3,  4],\n",
       "       [ 4,  5],\n",
       "       [ 5,  6],\n",
       "       [ 6,  7],\n",
       "       [ 7,  8],\n",
       "       [ 8,  9],\n",
       "       [ 9, 10],\n",
       "       [10,  1]])"
      ]
     },
     "execution_count": 6,
     "metadata": {},
     "output_type": "execute_result"
    }
   ],
   "source": [
    "conn"
   ]
  },
  {
   "cell_type": "code",
   "execution_count": 7,
   "id": "f5117cb4-72a6-463e-878b-345949a37852",
   "metadata": {
    "execution": {
     "iopub.execute_input": "2024-03-12T09:36:54.224813Z",
     "iopub.status.busy": "2024-03-12T09:36:54.224464Z",
     "iopub.status.idle": "2024-03-12T09:36:54.343387Z",
     "shell.execute_reply": "2024-03-12T09:36:54.340735Z",
     "shell.execute_reply.started": "2024-03-12T09:36:54.224782Z"
    },
    "tags": []
   },
   "outputs": [],
   "source": [
    "# reading the mesh\n",
    "spatial_dimension = 1    \n",
    "mesh_file = 'segment.msh'\n",
    "mesh = aka.Mesh(spatial_dimension)\n",
    "mesh.read(mesh_file)"
   ]
  },
  {
   "cell_type": "markdown",
   "id": "ecf219d2-8baf-4a8e-9ff0-497e7aa039ed",
   "metadata": {},
   "source": [
    "#### Support declaration"
   ]
  },
  {
   "cell_type": "code",
   "execution_count": 8,
   "id": "5bd75785-144a-468c-a1f3-33c3c82dc871",
   "metadata": {
    "execution": {
     "iopub.execute_input": "2024-03-12T09:36:54.347503Z",
     "iopub.status.busy": "2024-03-12T09:36:54.346693Z",
     "iopub.status.idle": "2024-03-12T09:36:54.536826Z",
     "shell.execute_reply": "2024-03-12T09:36:54.534341Z",
     "shell.execute_reply.started": "2024-03-12T09:36:54.347428Z"
    },
    "tags": []
   },
   "outputs": [],
   "source": [
    "model = aka.SolidMechanicsModel(mesh)\n",
    "model.initFull(_analysis_method=aka._static)"
   ]
  },
  {
   "cell_type": "code",
   "execution_count": 9,
   "id": "311d0886-cb8d-4db3-9805-8c5172085cd4",
   "metadata": {
    "execution": {
     "iopub.execute_input": "2024-03-12T09:36:54.540751Z",
     "iopub.status.busy": "2024-03-12T09:36:54.539955Z",
     "iopub.status.idle": "2024-03-12T09:36:54.632785Z",
     "shell.execute_reply": "2024-03-12T09:36:54.630322Z",
     "shell.execute_reply.started": "2024-03-12T09:36:54.540680Z"
    },
    "tags": []
   },
   "outputs": [],
   "source": [
    "elem_filter = np.array([])\n",
    "fem = model.getFEEngine()\n",
    "spatial_dimension = 1\n",
    "elemtype = aka._segment_2\n",
    "ghost_type = aka.GhostType(1) #comment avoir ghost_type vide?\n",
    "Sup = Support(elem_filter, fem, spatial_dimension, elemtype, ghost_type)"
   ]
  },
  {
   "cell_type": "markdown",
   "id": "35d3731a-a497-42b2-837e-7fd1f4849806",
   "metadata": {},
   "source": [
    "#### Interpolation"
   ]
  },
  {
   "cell_type": "code",
   "execution_count": 10,
   "id": "a6f28a13-30bd-401a-9ed3-491efafb336c",
   "metadata": {
    "execution": {
     "iopub.execute_input": "2024-03-12T09:36:54.637399Z",
     "iopub.status.busy": "2024-03-12T09:36:54.635930Z",
     "iopub.status.idle": "2024-03-12T09:36:54.674735Z",
     "shell.execute_reply": "2024-03-12T09:36:54.671949Z",
     "shell.execute_reply.started": "2024-03-12T09:36:54.637339Z"
    },
    "tags": []
   },
   "outputs": [],
   "source": [
    "# create a field  \n",
    "nodes = mesh.getNodes()\n",
    "nodal_field=np.ones(nodes.shape)*3"
   ]
  },
  {
   "cell_type": "code",
   "execution_count": 11,
   "id": "1b13ff06-fb04-490d-92f8-797f3649e062",
   "metadata": {
    "execution": {
     "iopub.execute_input": "2024-03-12T09:36:54.678568Z",
     "iopub.status.busy": "2024-03-12T09:36:54.677833Z",
     "iopub.status.idle": "2024-03-12T09:36:54.726290Z",
     "shell.execute_reply": "2024-03-12T09:36:54.723697Z",
     "shell.execute_reply.started": "2024-03-12T09:36:54.678507Z"
    },
    "tags": []
   },
   "outputs": [],
   "source": [
    "# output vector (will be filled by the method \"interpolateOnIntegrationPoints\")\n",
    "## to adapt depending on the number of quadrature points (support)\n",
    "nbr_elem = mesh.getConnectivity(Sup.elemtype).shape[0]\n",
    "output=np.zeros((nbr_elem,1))"
   ]
  },
  {
   "cell_type": "code",
   "execution_count": 12,
   "id": "483f95ef-8030-4cf2-9d0e-cd08f0dec3fc",
   "metadata": {
    "execution": {
     "iopub.execute_input": "2024-03-12T09:36:54.730151Z",
     "iopub.status.busy": "2024-03-12T09:36:54.729325Z",
     "iopub.status.idle": "2024-03-12T09:36:54.785677Z",
     "shell.execute_reply": "2024-03-12T09:36:54.783369Z",
     "shell.execute_reply.started": "2024-03-12T09:36:54.730079Z"
    },
    "tags": []
   },
   "outputs": [],
   "source": [
    "NTF = NodalTensorField(\"ex_displacement\", Sup, nodal_field)"
   ]
  },
  {
   "cell_type": "code",
   "execution_count": 13,
   "id": "7f3d534f-bedc-4a20-9502-be6d2d2a0105",
   "metadata": {
    "execution": {
     "iopub.execute_input": "2024-03-12T09:36:54.789957Z",
     "iopub.status.busy": "2024-03-12T09:36:54.789010Z",
     "iopub.status.idle": "2024-03-12T09:36:54.908218Z",
     "shell.execute_reply": "2024-03-12T09:36:54.905280Z",
     "shell.execute_reply.started": "2024-03-12T09:36:54.789830Z"
    },
    "tags": []
   },
   "outputs": [],
   "source": [
    "output = aka.ElementTypeMapArrayReal()\n",
    "output.initialize(mesh, nb_component=1)\n",
    "NTF.evalOnQuadraturePoints(output)"
   ]
  },
  {
   "cell_type": "code",
   "execution_count": 14,
   "id": "1ed08da2",
   "metadata": {
    "execution": {
     "iopub.execute_input": "2024-03-12T09:36:54.912612Z",
     "iopub.status.busy": "2024-03-12T09:36:54.911765Z",
     "iopub.status.idle": "2024-03-12T09:36:54.968156Z",
     "shell.execute_reply": "2024-03-12T09:36:54.965915Z",
     "shell.execute_reply.started": "2024-03-12T09:36:54.912542Z"
    }
   },
   "outputs": [
    {
     "data": {
      "text/plain": [
       "array([[3.],\n",
       "       [3.],\n",
       "       [3.],\n",
       "       [3.],\n",
       "       [3.],\n",
       "       [3.],\n",
       "       [3.],\n",
       "       [3.],\n",
       "       [3.],\n",
       "       [3.]])"
      ]
     },
     "execution_count": 14,
     "metadata": {},
     "output_type": "execute_result"
    }
   ],
   "source": [
    "output(aka._segment_2)"
   ]
  },
  {
   "cell_type": "code",
   "execution_count": null,
   "id": "6037d75b",
   "metadata": {},
   "outputs": [],
   "source": []
  }
 ],
 "metadata": {
  "hide_input": false,
  "kernelspec": {
   "display_name": "Python3",
   "language": "python",
   "name": "python3"
  },
  "language_info": {
   "codemirror_mode": {
    "name": "ipython",
    "version": 3
   },
   "file_extension": ".py",
   "mimetype": "text/x-python",
   "name": "python",
   "nbconvert_exporter": "python",
   "pygments_lexer": "ipython3",
   "version": "3.11.5"
  }
 },
 "nbformat": 4,
 "nbformat_minor": 5
}
