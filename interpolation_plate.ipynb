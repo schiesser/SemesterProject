{
 "cells": [
  {
   "cell_type": "code",
   "execution_count": 1,
   "id": "0b23a331-1a6d-4685-9ffe-95c1a2c50bc4",
   "metadata": {
    "execution": {
     "iopub.execute_input": "2024-03-11T08:29:14.048829Z",
     "iopub.status.busy": "2024-03-11T08:29:14.046813Z",
     "iopub.status.idle": "2024-03-11T08:29:14.709339Z",
     "shell.execute_reply": "2024-03-11T08:29:14.707317Z",
     "shell.execute_reply.started": "2024-03-11T08:29:14.048748Z"
    },
    "tags": []
   },
   "outputs": [],
   "source": [
    "import akantu as aka\n",
    "import numpy as np\n",
    "from variationnal_operator_function import *"
   ]
  },
  {
   "cell_type": "markdown",
   "id": "4d66ca58-b7bd-478b-8234-67e49bc8d3fa",
   "metadata": {},
   "source": [
    "#### Mesh generation (from tutorial) :"
   ]
  },
  {
   "cell_type": "code",
   "execution_count": 2,
   "id": "af6e6c5d-9298-462e-9465-d4654b383e3a",
   "metadata": {
    "execution": {
     "iopub.execute_input": "2024-03-11T08:29:14.720157Z",
     "iopub.status.busy": "2024-03-11T08:29:14.719584Z",
     "iopub.status.idle": "2024-03-11T08:29:14.729621Z",
     "shell.execute_reply": "2024-03-11T08:29:14.727870Z",
     "shell.execute_reply.started": "2024-03-11T08:29:14.720102Z"
    },
    "tags": []
   },
   "outputs": [],
   "source": [
    "# geometric parameters\n",
    "\n",
    "w = 10.     # width (x-axis)\n",
    "l = 5.      # length (y-axis)\n",
    "h1 = 0.05   # characteristic mesh size at the hole\n",
    "h2 = 0.3    # characteristic mesh size in corners\n",
    "R = 2.      # radius of the hole"
   ]
  },
  {
   "cell_type": "code",
   "execution_count": 3,
   "id": "af22d4db-473b-4311-bc81-eaa046b0dbe0",
   "metadata": {
    "execution": {
     "iopub.execute_input": "2024-03-11T08:29:14.917208Z",
     "iopub.status.busy": "2024-03-11T08:29:14.916351Z",
     "iopub.status.idle": "2024-03-11T08:29:14.929454Z",
     "shell.execute_reply": "2024-03-11T08:29:14.927257Z",
     "shell.execute_reply.started": "2024-03-11T08:29:14.917135Z"
    },
    "tags": []
   },
   "outputs": [],
   "source": [
    "mesh_file = f\"\"\"\n",
    "Point(1) = {{0, 0, 0, {h2} }};\n",
    "Point(2) = {{ {R}, 0, 0, {h1} }};\n",
    "Point(3) = {{ {w}, 0, 0, {h2} }};\n",
    "Point(4) = {{ {w}, {l}, 0, {h2} }};\n",
    "Point(5) = {{ 0,   {l}, 0, {h2} }};\n",
    "Point(6) = {{0,    {R}, 0, {h1} }};\n",
    "\"\"\""
   ]
  },
  {
   "cell_type": "code",
   "execution_count": 4,
   "id": "d5922552-8dc7-4436-a1a8-e014e9190638",
   "metadata": {
    "execution": {
     "iopub.execute_input": "2024-03-11T08:29:15.195722Z",
     "iopub.status.busy": "2024-03-11T08:29:15.194800Z",
     "iopub.status.idle": "2024-03-11T08:29:15.205996Z",
     "shell.execute_reply": "2024-03-11T08:29:15.203692Z",
     "shell.execute_reply.started": "2024-03-11T08:29:15.195647Z"
    },
    "tags": []
   },
   "outputs": [],
   "source": [
    "mesh_file += \"\"\"\n",
    "Circle(1) = {6, 1, 2};\n",
    "Line(2) = {2, 3};\n",
    "Line(3) = {3, 4};\n",
    "Line(4) = {4, 5};\n",
    "Line(5) = {5, 6};\n",
    "Line Loop(6) = {1, 2, 3, 4, 5};\n",
    "Plane Surface(7) = {6};\n",
    "\"\"\""
   ]
  },
  {
   "cell_type": "code",
   "execution_count": 5,
   "id": "6443215b-2834-451e-a160-89ca8b52ad3d",
   "metadata": {
    "execution": {
     "iopub.execute_input": "2024-03-11T08:29:15.382664Z",
     "iopub.status.busy": "2024-03-11T08:29:15.381888Z",
     "iopub.status.idle": "2024-03-11T08:29:15.392831Z",
     "shell.execute_reply": "2024-03-11T08:29:15.390644Z",
     "shell.execute_reply.started": "2024-03-11T08:29:15.382596Z"
    },
    "tags": []
   },
   "outputs": [],
   "source": [
    "mesh_file += \"\"\"\n",
    "Physical Surface(8) = {7};\n",
    "Physical Line(\"XBlocked\") = {5};\n",
    "Physical Line(\"YBlocked\") = {2};\n",
    "Physical Line(\"Traction\") = {3};\n",
    "\"\"\""
   ]
  },
  {
   "cell_type": "code",
   "execution_count": 6,
   "id": "e803cbfa-da35-4056-8680-d40e27aa26ff",
   "metadata": {
    "execution": {
     "iopub.execute_input": "2024-03-11T08:29:15.694564Z",
     "iopub.status.busy": "2024-03-11T08:29:15.693805Z",
     "iopub.status.idle": "2024-03-11T08:29:16.445356Z",
     "shell.execute_reply": "2024-03-11T08:29:16.442851Z",
     "shell.execute_reply.started": "2024-03-11T08:29:15.694494Z"
    },
    "tags": []
   },
   "outputs": [
    {
     "name": "stdout",
     "output_type": "stream",
     "text": [
      "Info    : Running '/opt/jlab-env/bin/gmsh -2 -order 1 -o plate.msh plate.geo' [Gmsh 4.11.1, 1 node, max. 1 thread]\n",
      "Info    : Started on Mon Mar 11 09:29:16 2024\n",
      "Info    : Reading 'plate.geo'...\n",
      "Info    : Done reading 'plate.geo'\n",
      "Info    : Meshing 1D...\n",
      "Info    : [  0%] Meshing curve 1 (Circle)\n",
      "Info    : [ 20%] Meshing curve 2 (Line)\n",
      "Info    : [ 40%] Meshing curve 3 (Line)\n",
      "Info    : [ 60%] Meshing curve 4 (Line)\n",
      "Info    : [ 80%] Meshing curve 5 (Line)\n",
      "Info    : Done meshing 1D (Wall 0.00909786s, CPU 0.006222s)\n",
      "Info    : Meshing 2D...\n",
      "Info    : Meshing surface 7 (Plane, Frontal-Delaunay)\n",
      "Info    : Done meshing 2D (Wall 0.0598976s, CPU 0.05516s)\n",
      "Info    : 2058 nodes 4118 elements\n",
      "Info    : Writing 'plate.msh'...\n",
      "Info    : Done writing 'plate.msh'\n",
      "Info    : Stopped on Mon Mar 11 09:29:16 2024 (From start: Wall 0.119233s, CPU 0.585574s)\n",
      "Mesh generated\n"
     ]
    }
   ],
   "source": [
    "open('plate.geo', 'w').write(mesh_file)\n",
    "\n",
    "import subprocess\n",
    "ret = subprocess.run(\"gmsh -2 -order 1 -o plate.msh plate.geo\", shell=True)\n",
    "if ret.returncode:\n",
    "    print(\"Beware, gmsh could not run: mesh is not regenerated\")\n",
    "else:\n",
    "    print(\"Mesh generated\")"
   ]
  },
  {
   "cell_type": "code",
   "execution_count": 7,
   "id": "a06c9de7-1b07-4ffd-9bd6-d9ed2769a5b0",
   "metadata": {
    "execution": {
     "iopub.execute_input": "2024-03-11T08:29:16.449893Z",
     "iopub.status.busy": "2024-03-11T08:29:16.449164Z",
     "iopub.status.idle": "2024-03-11T08:29:16.485682Z",
     "shell.execute_reply": "2024-03-11T08:29:16.483481Z",
     "shell.execute_reply.started": "2024-03-11T08:29:16.449828Z"
    },
    "tags": []
   },
   "outputs": [],
   "source": [
    "# reading the mesh\n",
    "spatial_dimension = 2    \n",
    "mesh_file = 'plate.msh'\n",
    "mesh = aka.Mesh(spatial_dimension)\n",
    "mesh.read(mesh_file)"
   ]
  },
  {
   "cell_type": "code",
   "execution_count": 8,
   "id": "06ef11b7-9138-492d-80eb-c78d2c450c3b",
   "metadata": {
    "execution": {
     "iopub.execute_input": "2024-03-11T08:29:16.488759Z",
     "iopub.status.busy": "2024-03-11T08:29:16.488199Z",
     "iopub.status.idle": "2024-03-11T08:29:16.536606Z",
     "shell.execute_reply": "2024-03-11T08:29:16.534214Z",
     "shell.execute_reply.started": "2024-03-11T08:29:16.488709Z"
    },
    "tags": []
   },
   "outputs": [
    {
     "name": "stdout",
     "output_type": "stream",
     "text": [
      "['__class__', '__delattr__', '__dir__', '__doc__', '__eq__', '__format__', '__ge__', '__getattribute__', '__getstate__', '__gt__', '__hash__', '__init__', '__init_subclass__', '__le__', '__lt__', '__module__', '__ne__', '__new__', '__reduce__', '__reduce_ex__', '__repr__', '__setattr__', '__sizeof__', '__str__', '__subclasshook__', 'addConnectivityType', 'addDumpField', 'addDumpFieldExternal', 'addDumpFieldExternalToDumper', 'addDumpFieldToDumper', 'addDumpMesh', 'addDumpMeshToDumper', 'createBoundaryGroupFromGeometry', 'createElementGroup', 'createElementGroupFromNodeGroup', 'createGroupsFromMeshDataUInt', 'createNodeGroup', 'distribute', 'dump', 'elementGroups', 'fillNodesToElements', 'getAssociatedElements', 'getConnectivities', 'getConnectivity', 'getDataReal', 'getElementGroup', 'getElementalDataReal', 'getElementalDataUInt', 'getLowerBounds', 'getMeshFacets', 'getNbElement', 'getNbNodes', 'getNodeGroup', 'getNodes', 'getPeriodicMaster', 'getPeriodicSlaves', 'getSpatialDimension', 'getUpperBounds', 'hasDataReal', 'initMeshFacets', 'isDistributed', 'isPeriodic', 'isPeriodicMaster', 'isPeriodicSlave', 'iterateElementGroups', 'iterateNodeGroups', 'makePeriodic', 'nodeGroups', 'read', 'registerDumperParaview']\n"
     ]
    }
   ],
   "source": [
    "print(dir(mesh))"
   ]
  },
  {
   "cell_type": "markdown",
   "id": "a1f513d1-a599-4319-abac-25c6a3714b6c",
   "metadata": {},
   "source": [
    "#### Support declaration"
   ]
  },
  {
   "cell_type": "code",
   "execution_count": 9,
   "id": "74e0b886-49dd-4965-b2d1-954362fadf0a",
   "metadata": {
    "execution": {
     "iopub.execute_input": "2024-03-11T08:29:17.443322Z",
     "iopub.status.busy": "2024-03-11T08:29:17.442413Z",
     "iopub.status.idle": "2024-03-11T08:29:17.468121Z",
     "shell.execute_reply": "2024-03-11T08:29:17.465731Z",
     "shell.execute_reply.started": "2024-03-11T08:29:17.443248Z"
    },
    "tags": []
   },
   "outputs": [],
   "source": [
    "model = aka.SolidMechanicsModel(mesh)\n",
    "model.initFull(_analysis_method=aka._static)"
   ]
  },
  {
   "cell_type": "code",
   "execution_count": 10,
   "id": "963641eb-cff8-42bb-9fd0-3d4a060bf14b",
   "metadata": {
    "execution": {
     "iopub.execute_input": "2024-03-11T08:29:17.874855Z",
     "iopub.status.busy": "2024-03-11T08:29:17.874072Z",
     "iopub.status.idle": "2024-03-11T08:29:17.887587Z",
     "shell.execute_reply": "2024-03-11T08:29:17.885175Z",
     "shell.execute_reply.started": "2024-03-11T08:29:17.874787Z"
    },
    "tags": []
   },
   "outputs": [],
   "source": [
    "elem_filter = np.array([])\n",
    "fem = model.getFEEngine()\n",
    "spatial_dimension = 2\n",
    "elemtype = aka._triangle_3\n",
    "ghost_type = aka.GhostType(1) #comment avoir ghost_type vide?\n",
    "Sup = Support(elem_filter, fem, spatial_dimension, elemtype, ghost_type)"
   ]
  },
  {
   "cell_type": "markdown",
   "id": "fa74ba4e-f2c7-4ed7-b9e4-efdbd89c6eec",
   "metadata": {
    "tags": []
   },
   "source": [
    "#### Interpolation"
   ]
  },
  {
   "cell_type": "code",
   "execution_count": 11,
   "id": "2927df9d-4836-46ec-80bf-19b846f96494",
   "metadata": {
    "execution": {
     "iopub.execute_input": "2024-03-11T08:29:18.775310Z",
     "iopub.status.busy": "2024-03-11T08:29:18.774397Z",
     "iopub.status.idle": "2024-03-11T08:29:18.786692Z",
     "shell.execute_reply": "2024-03-11T08:29:18.784461Z",
     "shell.execute_reply.started": "2024-03-11T08:29:18.775239Z"
    },
    "tags": []
   },
   "outputs": [],
   "source": [
    "# create a field  \n",
    "nodes = mesh.getNodes()\n",
    "nodal_field=np.ones(nodes.shape)*3"
   ]
  },
  {
   "cell_type": "code",
   "execution_count": 12,
   "id": "0001f006-0822-4084-9833-f90b6ee6080b",
   "metadata": {
    "execution": {
     "iopub.execute_input": "2024-03-11T08:29:19.394118Z",
     "iopub.status.busy": "2024-03-11T08:29:19.393336Z",
     "iopub.status.idle": "2024-03-11T08:29:19.405425Z",
     "shell.execute_reply": "2024-03-11T08:29:19.403064Z",
     "shell.execute_reply.started": "2024-03-11T08:29:19.394051Z"
    },
    "tags": []
   },
   "outputs": [],
   "source": [
    "# output vector (will be filled by the method \"interpolateOnIntegrationPoints\")\n",
    "## dimension à adapter selon le nbr de point de quadrature ? (ici 1 point par élément)\n",
    "nbr_elem = mesh.getConnectivity(Sup.elemtype).shape[0]\n",
    "output=np.zeros((nbr_elem,spatial_dimension))"
   ]
  },
  {
   "cell_type": "code",
   "execution_count": 13,
   "id": "04dee6eb-b2b6-4ea5-a7c4-c0a3d570d32f",
   "metadata": {
    "execution": {
     "iopub.execute_input": "2024-03-11T08:29:19.774334Z",
     "iopub.status.busy": "2024-03-11T08:29:19.773575Z",
     "iopub.status.idle": "2024-03-11T08:29:19.785110Z",
     "shell.execute_reply": "2024-03-11T08:29:19.782653Z",
     "shell.execute_reply.started": "2024-03-11T08:29:19.774268Z"
    },
    "tags": []
   },
   "outputs": [],
   "source": [
    "NTF = NodalTensorField(\"test\", Sup, nodal_field)"
   ]
  },
  {
   "cell_type": "code",
   "execution_count": 14,
   "id": "96e74c41-1d14-4f18-a6cd-5df4bbf878cf",
   "metadata": {
    "execution": {
     "iopub.execute_input": "2024-03-11T08:29:20.264572Z",
     "iopub.status.busy": "2024-03-11T08:29:20.262779Z",
     "iopub.status.idle": "2024-03-11T08:29:20.498213Z",
     "shell.execute_reply": "2024-03-11T08:29:20.496862Z",
     "shell.execute_reply.started": "2024-03-11T08:29:20.264500Z"
    },
    "tags": []
   },
   "outputs": [
    {
     "ename": "Exception",
     "evalue": "akantu::debug::Exception : cannot resize a temporary array [../../../python/py_aka_array.hh:77]",
     "output_type": "error",
     "traceback": [
      "\u001b[0;31m---------------------------------------------------------------------------\u001b[0m",
      "\u001b[0;31mException\u001b[0m                                 Traceback (most recent call last)",
      "Cell \u001b[0;32mIn[14], line 1\u001b[0m\n\u001b[0;32m----> 1\u001b[0m \u001b[43mNTF\u001b[49m\u001b[38;5;241;43m.\u001b[39;49m\u001b[43mevalOnQuadraturePoints\u001b[49m\u001b[43m(\u001b[49m\u001b[43moutput\u001b[49m\u001b[43m)\u001b[49m\n",
      "File \u001b[0;32m~/SemesterProject/variationnal_operator_function.py:33\u001b[0m, in \u001b[0;36mNodalTensorField.evalOnQuadraturePoints\u001b[0;34m(self, output)\u001b[0m\n\u001b[1;32m     32\u001b[0m \u001b[38;5;28;01mdef\u001b[39;00m \u001b[38;5;21mevalOnQuadraturePoints\u001b[39m(\u001b[38;5;28mself\u001b[39m, output):\n\u001b[0;32m---> 33\u001b[0m     \u001b[38;5;28;43mself\u001b[39;49m\u001b[38;5;241;43m.\u001b[39;49m\u001b[43msupport\u001b[49m\u001b[38;5;241;43m.\u001b[39;49m\u001b[43mfem\u001b[49m\u001b[38;5;241;43m.\u001b[39;49m\u001b[43minterpolateOnIntegrationPoints\u001b[49m\u001b[43m(\u001b[49m\n\u001b[1;32m     34\u001b[0m \u001b[43m        \u001b[49m\u001b[38;5;28;43mself\u001b[39;49m\u001b[38;5;241;43m.\u001b[39;49m\u001b[43mnodal_field\u001b[49m\u001b[43m,\u001b[49m\u001b[43m \u001b[49m\u001b[43moutput\u001b[49m\u001b[43m,\u001b[49m\u001b[43m \u001b[49m\u001b[38;5;28;43mself\u001b[39;49m\u001b[38;5;241;43m.\u001b[39;49m\u001b[43mnodal_field\u001b[49m\u001b[38;5;241;43m.\u001b[39;49m\u001b[43mshape\u001b[49m\u001b[43m[\u001b[49m\u001b[38;5;241;43m0\u001b[39;49m\u001b[43m]\u001b[49m\u001b[43m,\u001b[49m\u001b[43m \u001b[49m\u001b[38;5;28;43mself\u001b[39;49m\u001b[38;5;241;43m.\u001b[39;49m\u001b[43msupport\u001b[49m\u001b[38;5;241;43m.\u001b[39;49m\u001b[43melemtype\u001b[49m\u001b[43m)\u001b[49m\n",
      "\u001b[0;31mException\u001b[0m: akantu::debug::Exception : cannot resize a temporary array [../../../python/py_aka_array.hh:77]"
     ]
    }
   ],
   "source": [
    "NTF.evalOnQuadraturePoints(output)"
   ]
  }
 ],
 "metadata": {
  "kernelspec": {
   "display_name": "Python3",
   "language": "python",
   "name": "python3"
  },
  "language_info": {
   "codemirror_mode": {
    "name": "ipython",
    "version": 3
   },
   "file_extension": ".py",
   "mimetype": "text/x-python",
   "name": "python",
   "nbconvert_exporter": "python",
   "pygments_lexer": "ipython3",
   "version": "3.11.5"
  }
 },
 "nbformat": 4,
 "nbformat_minor": 5
}
