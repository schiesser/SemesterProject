{
 "cells": [
  {
   "cell_type": "code",
   "execution_count": 1,
   "id": "0b23a331-1a6d-4685-9ffe-95c1a2c50bc4",
   "metadata": {
    "execution": {
     "iopub.execute_input": "2024-03-12T07:43:12.449280Z",
     "iopub.status.busy": "2024-03-12T07:43:12.448582Z",
     "iopub.status.idle": "2024-03-12T07:43:17.152603Z",
     "shell.execute_reply": "2024-03-12T07:43:17.151042Z",
     "shell.execute_reply.started": "2024-03-12T07:43:12.449225Z"
    },
    "tags": []
   },
   "outputs": [],
   "source": [
    "import akantu as aka\n",
    "import numpy as np\n",
    "from variationnal_operator_function import *"
   ]
  },
  {
   "cell_type": "markdown",
   "id": "4d66ca58-b7bd-478b-8234-67e49bc8d3fa",
   "metadata": {},
   "source": [
    "#### Mesh generation (from tutorial) :"
   ]
  },
  {
   "cell_type": "code",
   "execution_count": 2,
   "id": "af6e6c5d-9298-462e-9465-d4654b383e3a",
   "metadata": {
    "execution": {
     "iopub.execute_input": "2024-03-12T07:43:18.220390Z",
     "iopub.status.busy": "2024-03-12T07:43:18.219530Z",
     "iopub.status.idle": "2024-03-12T07:43:18.234479Z",
     "shell.execute_reply": "2024-03-12T07:43:18.228762Z",
     "shell.execute_reply.started": "2024-03-12T07:43:18.220331Z"
    },
    "tags": []
   },
   "outputs": [],
   "source": [
    "# geometric parameters\n",
    "\n",
    "w = 10.     # width (x-axis)\n",
    "l = 5.      # length (y-axis)\n",
    "h1 = 0.05   # characteristic mesh size at the hole\n",
    "h2 = 0.3    # characteristic mesh size in corners\n",
    "R = 2.      # radius of the hole"
   ]
  },
  {
   "cell_type": "code",
   "execution_count": 3,
   "id": "af22d4db-473b-4311-bc81-eaa046b0dbe0",
   "metadata": {
    "execution": {
     "iopub.execute_input": "2024-03-12T07:43:18.906435Z",
     "iopub.status.busy": "2024-03-12T07:43:18.905841Z",
     "iopub.status.idle": "2024-03-12T07:43:18.915239Z",
     "shell.execute_reply": "2024-03-12T07:43:18.913632Z",
     "shell.execute_reply.started": "2024-03-12T07:43:18.906384Z"
    },
    "tags": []
   },
   "outputs": [],
   "source": [
    "mesh_file = f\"\"\"\n",
    "Point(1) = {{0, 0, 0, {h2} }};\n",
    "Point(2) = {{ {R}, 0, 0, {h1} }};\n",
    "Point(3) = {{ {w}, 0, 0, {h2} }};\n",
    "Point(4) = {{ {w}, {l}, 0, {h2} }};\n",
    "Point(5) = {{ 0,   {l}, 0, {h2} }};\n",
    "Point(6) = {{0,    {R}, 0, {h1} }};\n",
    "\"\"\""
   ]
  },
  {
   "cell_type": "code",
   "execution_count": 4,
   "id": "d5922552-8dc7-4436-a1a8-e014e9190638",
   "metadata": {
    "execution": {
     "iopub.execute_input": "2024-03-12T07:43:19.370204Z",
     "iopub.status.busy": "2024-03-12T07:43:19.368987Z",
     "iopub.status.idle": "2024-03-12T07:43:19.377390Z",
     "shell.execute_reply": "2024-03-12T07:43:19.375784Z",
     "shell.execute_reply.started": "2024-03-12T07:43:19.370136Z"
    },
    "tags": []
   },
   "outputs": [],
   "source": [
    "mesh_file += \"\"\"\n",
    "Circle(1) = {6, 1, 2};\n",
    "Line(2) = {2, 3};\n",
    "Line(3) = {3, 4};\n",
    "Line(4) = {4, 5};\n",
    "Line(5) = {5, 6};\n",
    "Line Loop(6) = {1, 2, 3, 4, 5};\n",
    "Plane Surface(7) = {6};\n",
    "\"\"\""
   ]
  },
  {
   "cell_type": "code",
   "execution_count": 5,
   "id": "6443215b-2834-451e-a160-89ca8b52ad3d",
   "metadata": {
    "execution": {
     "iopub.execute_input": "2024-03-12T07:43:20.028552Z",
     "iopub.status.busy": "2024-03-12T07:43:20.027900Z",
     "iopub.status.idle": "2024-03-12T07:43:20.035876Z",
     "shell.execute_reply": "2024-03-12T07:43:20.034556Z",
     "shell.execute_reply.started": "2024-03-12T07:43:20.028495Z"
    },
    "tags": []
   },
   "outputs": [],
   "source": [
    "mesh_file += \"\"\"\n",
    "Physical Surface(8) = {7};\n",
    "Physical Line(\"XBlocked\") = {5};\n",
    "Physical Line(\"YBlocked\") = {2};\n",
    "Physical Line(\"Traction\") = {3};\n",
    "\"\"\""
   ]
  },
  {
   "cell_type": "code",
   "execution_count": 6,
   "id": "e803cbfa-da35-4056-8680-d40e27aa26ff",
   "metadata": {
    "execution": {
     "iopub.execute_input": "2024-03-12T07:43:20.739414Z",
     "iopub.status.busy": "2024-03-12T07:43:20.738718Z",
     "iopub.status.idle": "2024-03-12T07:43:23.757851Z",
     "shell.execute_reply": "2024-03-12T07:43:23.755893Z",
     "shell.execute_reply.started": "2024-03-12T07:43:20.739357Z"
    },
    "tags": []
   },
   "outputs": [
    {
     "name": "stdout",
     "output_type": "stream",
     "text": [
      "Info    : Running '/opt/jlab-env/bin/gmsh -2 -order 1 -o plate.msh plate.geo' [Gmsh 4.11.1, 1 node, max. 1 thread]\n",
      "Info    : Started on Tue Mar 12 08:43:22 2024\n",
      "Info    : Reading 'plate.geo'...\n",
      "Info    : Done reading 'plate.geo'\n",
      "Info    : Meshing 1D...\n",
      "Info    : [  0%] Meshing curve 1 (Circle)\n",
      "Info    : [ 20%] Meshing curve 2 (Line)\n",
      "Info    : [ 40%] Meshing curve 3 (Line)\n",
      "Info    : [ 60%] Meshing curve 4 (Line)\n",
      "Info    : [ 80%] Meshing curve 5 (Line)\n",
      "Info    : Done meshing 1D (Wall 0.0142238s, CPU 0.012701s)\n",
      "Info    : Meshing 2D...\n",
      "Info    : Meshing surface 7 (Plane, Frontal-Delaunay)\n",
      "Info    : Done meshing 2D (Wall 0.108099s, CPU 0.087953s)\n",
      "Info    : 2058 nodes 4118 elements\n",
      "Info    : Writing 'plate.msh'...\n",
      "Info    : Done writing 'plate.msh'\n",
      "Info    : Stopped on Tue Mar 12 08:43:23 2024 (From start: Wall 0.417365s, CPU 0.619383s)\n",
      "Mesh generated\n"
     ]
    }
   ],
   "source": [
    "open('plate.geo', 'w').write(mesh_file)\n",
    "\n",
    "import subprocess\n",
    "ret = subprocess.run(\"gmsh -2 -order 1 -o plate.msh plate.geo\", shell=True)\n",
    "if ret.returncode:\n",
    "    print(\"Beware, gmsh could not run: mesh is not regenerated\")\n",
    "else:\n",
    "    print(\"Mesh generated\")"
   ]
  },
  {
   "cell_type": "code",
   "execution_count": 7,
   "id": "a06c9de7-1b07-4ffd-9bd6-d9ed2769a5b0",
   "metadata": {
    "execution": {
     "iopub.execute_input": "2024-03-12T07:43:23.761543Z",
     "iopub.status.busy": "2024-03-12T07:43:23.760743Z",
     "iopub.status.idle": "2024-03-12T07:43:23.903743Z",
     "shell.execute_reply": "2024-03-12T07:43:23.901930Z",
     "shell.execute_reply.started": "2024-03-12T07:43:23.761483Z"
    },
    "tags": []
   },
   "outputs": [],
   "source": [
    "# reading the mesh\n",
    "spatial_dimension = 2    \n",
    "mesh_file = 'plate.msh'\n",
    "mesh = aka.Mesh(spatial_dimension)\n",
    "mesh.read(mesh_file)"
   ]
  },
  {
   "cell_type": "code",
   "execution_count": 8,
   "id": "06ef11b7-9138-492d-80eb-c78d2c450c3b",
   "metadata": {
    "execution": {
     "iopub.execute_input": "2024-03-12T07:43:26.566725Z",
     "iopub.status.busy": "2024-03-12T07:43:26.566072Z",
     "iopub.status.idle": "2024-03-12T07:43:26.575991Z",
     "shell.execute_reply": "2024-03-12T07:43:26.574374Z",
     "shell.execute_reply.started": "2024-03-12T07:43:26.566670Z"
    },
    "tags": []
   },
   "outputs": [
    {
     "name": "stdout",
     "output_type": "stream",
     "text": [
      "['__class__', '__delattr__', '__dir__', '__doc__', '__eq__', '__format__', '__ge__', '__getattribute__', '__getstate__', '__gt__', '__hash__', '__init__', '__init_subclass__', '__le__', '__lt__', '__module__', '__ne__', '__new__', '__reduce__', '__reduce_ex__', '__repr__', '__setattr__', '__sizeof__', '__str__', '__subclasshook__', 'addConnectivityType', 'addDumpField', 'addDumpFieldExternal', 'addDumpFieldExternalToDumper', 'addDumpFieldToDumper', 'addDumpMesh', 'addDumpMeshToDumper', 'createBoundaryGroupFromGeometry', 'createElementGroup', 'createElementGroupFromNodeGroup', 'createGroupsFromMeshDataUInt', 'createNodeGroup', 'distribute', 'dump', 'elementGroups', 'fillNodesToElements', 'getAssociatedElements', 'getConnectivities', 'getConnectivity', 'getDataReal', 'getElementGroup', 'getElementalDataReal', 'getElementalDataUInt', 'getLowerBounds', 'getMeshFacets', 'getNbElement', 'getNbNodes', 'getNodeGroup', 'getNodes', 'getPeriodicMaster', 'getPeriodicSlaves', 'getSpatialDimension', 'getUpperBounds', 'hasDataReal', 'initMeshFacets', 'isDistributed', 'isPeriodic', 'isPeriodicMaster', 'isPeriodicSlave', 'iterateElementGroups', 'iterateNodeGroups', 'makePeriodic', 'nodeGroups', 'read', 'registerDumperParaview']\n"
     ]
    }
   ],
   "source": [
    "print(dir(mesh))"
   ]
  },
  {
   "cell_type": "markdown",
   "id": "a1f513d1-a599-4319-abac-25c6a3714b6c",
   "metadata": {},
   "source": [
    "#### Support declaration"
   ]
  },
  {
   "cell_type": "code",
   "execution_count": 9,
   "id": "74e0b886-49dd-4965-b2d1-954362fadf0a",
   "metadata": {
    "execution": {
     "iopub.execute_input": "2024-03-12T07:43:28.347694Z",
     "iopub.status.busy": "2024-03-12T07:43:28.347024Z",
     "iopub.status.idle": "2024-03-12T07:43:28.376575Z",
     "shell.execute_reply": "2024-03-12T07:43:28.374800Z",
     "shell.execute_reply.started": "2024-03-12T07:43:28.347640Z"
    },
    "tags": []
   },
   "outputs": [],
   "source": [
    "model = aka.SolidMechanicsModel(mesh)"
   ]
  },
  {
   "cell_type": "code",
   "execution_count": 10,
   "id": "963641eb-cff8-42bb-9fd0-3d4a060bf14b",
   "metadata": {
    "execution": {
     "iopub.execute_input": "2024-03-12T07:43:29.159603Z",
     "iopub.status.busy": "2024-03-12T07:43:29.158927Z",
     "iopub.status.idle": "2024-03-12T07:43:29.170155Z",
     "shell.execute_reply": "2024-03-12T07:43:29.168086Z",
     "shell.execute_reply.started": "2024-03-12T07:43:29.159549Z"
    },
    "tags": []
   },
   "outputs": [],
   "source": [
    "elem_filter = np.array([])\n",
    "fem = model.getFEEngine()\n",
    "spatial_dimension = 2\n",
    "elemtype = aka._triangle_3\n",
    "ghost_type = aka.GhostType(1) #comment avoir ghost_type vide?\n",
    "Sup = Support(elem_filter, fem, spatial_dimension, elemtype, ghost_type)"
   ]
  },
  {
   "cell_type": "markdown",
   "id": "fa74ba4e-f2c7-4ed7-b9e4-efdbd89c6eec",
   "metadata": {
    "tags": []
   },
   "source": [
    "#### Interpolation"
   ]
  },
  {
   "cell_type": "code",
   "execution_count": 11,
   "id": "2927df9d-4836-46ec-80bf-19b846f96494",
   "metadata": {
    "execution": {
     "iopub.execute_input": "2024-03-12T07:43:30.483150Z",
     "iopub.status.busy": "2024-03-12T07:43:30.482474Z",
     "iopub.status.idle": "2024-03-12T07:43:30.492488Z",
     "shell.execute_reply": "2024-03-12T07:43:30.490588Z",
     "shell.execute_reply.started": "2024-03-12T07:43:30.483094Z"
    },
    "tags": []
   },
   "outputs": [],
   "source": [
    "# create a field  \n",
    "nodes = mesh.getNodes()\n",
    "nodal_field=np.ones(nodes.shape)*3"
   ]
  },
  {
   "cell_type": "raw",
   "id": "d64daee4-95b2-47c9-ab9b-79dbfc87b71f",
   "metadata": {
    "execution": {
     "iopub.execute_input": "2024-03-11T10:41:39.670816Z",
     "iopub.status.busy": "2024-03-11T10:41:39.670033Z",
     "iopub.status.idle": "2024-03-11T10:41:39.682737Z",
     "shell.execute_reply": "2024-03-11T10:41:39.680312Z",
     "shell.execute_reply.started": "2024-03-11T10:41:39.670748Z"
    },
    "tags": []
   },
   "source": [
    "# output vector (will be filled by the method \"interpolateOnIntegrationPoints\")\n",
    "## dimension à adapter selon le nbr de point de quadrature ? (ici 1 point par élément)\n",
    "nbr_elem = mesh.getConnectivity(Sup.elemtype).shape[0]\n",
    "output=np.zeros((nbr_elem,spatial_dimension))"
   ]
  },
  {
   "cell_type": "code",
   "execution_count": 12,
   "id": "04dee6eb-b2b6-4ea5-a7c4-c0a3d570d32f",
   "metadata": {
    "execution": {
     "iopub.execute_input": "2024-03-12T07:43:32.038934Z",
     "iopub.status.busy": "2024-03-12T07:43:32.038233Z",
     "iopub.status.idle": "2024-03-12T07:43:32.046343Z",
     "shell.execute_reply": "2024-03-12T07:43:32.044757Z",
     "shell.execute_reply.started": "2024-03-12T07:43:32.038880Z"
    },
    "tags": []
   },
   "outputs": [],
   "source": [
    "NTF = NodalTensorField(\"test\", Sup, nodal_field)"
   ]
  },
  {
   "cell_type": "code",
   "execution_count": 14,
   "id": "96e74c41-1d14-4f18-a6cd-5df4bbf878cf",
   "metadata": {
    "execution": {
     "iopub.execute_input": "2024-03-12T07:43:49.519667Z",
     "iopub.status.busy": "2024-03-12T07:43:49.517955Z",
     "iopub.status.idle": "2024-03-12T07:43:49.575073Z",
     "shell.execute_reply": "2024-03-12T07:43:49.572983Z",
     "shell.execute_reply.started": "2024-03-12T07:43:49.519613Z"
    },
    "tags": []
   },
   "outputs": [
    {
     "ename": "TypeError",
     "evalue": "interpolateOnIntegrationPoints(): incompatible function arguments. The following argument types are supported:\n    1. (self: akantu.py11_akantu.FEEngine, u: AkaArray, uq: AkaArray, nb_degree_of_freedom: int, type: akantu.py11_akantu.ElementType, ghost_type: akantu.py11_akantu.GhostType = <GhostType._not_ghost: 0>, filter_elements: AkaArray = array([], shape=(0, 1), dtype=int32)) -> None\n    2. (self: akantu.py11_akantu.FEEngine, u: AkaArray, uq: akantu.py11_akantu.ElementTypeMapArrayReal, filter_elements: akantu.py11_akantu.ElementTypeMapArrayInt = None) -> None\n\nInvoked with: <akantu.py11_akantu.FEEngine object at 0x7f9be1aa2730>, array([[3., 3.],\n       [3., 3.],\n       [3., 3.],\n       ...,\n       [3., 3.],\n       [3., 3.],\n       [3., 3.]]), <akantu.py11_akantu.ElementTypeMapArrayReal object at 0x7f9be1ab65b0>, 4114, <ElementType._triangle_3: 4>",
     "output_type": "error",
     "traceback": [
      "\u001b[0;31m---------------------------------------------------------------------------\u001b[0m",
      "\u001b[0;31mTypeError\u001b[0m                                 Traceback (most recent call last)",
      "Cell \u001b[0;32mIn[14], line 3\u001b[0m\n\u001b[1;32m      1\u001b[0m output \u001b[38;5;241m=\u001b[39m aka\u001b[38;5;241m.\u001b[39mElementTypeMapArrayReal()\n\u001b[1;32m      2\u001b[0m output\u001b[38;5;241m.\u001b[39minitialize(mesh, nb_component\u001b[38;5;241m=\u001b[39m\u001b[38;5;241m1\u001b[39m)\n\u001b[0;32m----> 3\u001b[0m \u001b[43mNTF\u001b[49m\u001b[38;5;241;43m.\u001b[39;49m\u001b[43mevalOnQuadraturePoints\u001b[49m\u001b[43m(\u001b[49m\u001b[43moutput\u001b[49m\u001b[43m)\u001b[49m\n",
      "File \u001b[0;32m~/SemesterProject/SemesterProject/variationnal_operator_function.py:33\u001b[0m, in \u001b[0;36mNodalTensorField.evalOnQuadraturePoints\u001b[0;34m(self, output)\u001b[0m\n\u001b[1;32m     32\u001b[0m \u001b[38;5;28;01mdef\u001b[39;00m \u001b[38;5;21mevalOnQuadraturePoints\u001b[39m(\u001b[38;5;28mself\u001b[39m, output):\n\u001b[0;32m---> 33\u001b[0m     \u001b[38;5;28;43mself\u001b[39;49m\u001b[38;5;241;43m.\u001b[39;49m\u001b[43msupport\u001b[49m\u001b[38;5;241;43m.\u001b[39;49m\u001b[43mfem\u001b[49m\u001b[38;5;241;43m.\u001b[39;49m\u001b[43minterpolateOnIntegrationPoints\u001b[49m\u001b[43m(\u001b[49m\n\u001b[1;32m     34\u001b[0m \u001b[43m        \u001b[49m\u001b[38;5;28;43mself\u001b[39;49m\u001b[38;5;241;43m.\u001b[39;49m\u001b[43mnodal_field\u001b[49m\u001b[43m,\u001b[49m\u001b[43m \u001b[49m\u001b[43moutput\u001b[49m\u001b[43m,\u001b[49m\u001b[43m \u001b[49m\u001b[38;5;28;43mself\u001b[39;49m\u001b[38;5;241;43m.\u001b[39;49m\u001b[43mnodal_field\u001b[49m\u001b[38;5;241;43m.\u001b[39;49m\u001b[43mshape\u001b[49m\u001b[43m[\u001b[49m\u001b[38;5;241;43m0\u001b[39;49m\u001b[43m]\u001b[49m\u001b[38;5;241;43m*\u001b[39;49m\u001b[38;5;28;43mself\u001b[39;49m\u001b[38;5;241;43m.\u001b[39;49m\u001b[43mnodal_field\u001b[49m\u001b[38;5;241;43m.\u001b[39;49m\u001b[43mshape\u001b[49m\u001b[43m[\u001b[49m\u001b[38;5;241;43m1\u001b[39;49m\u001b[43m]\u001b[49m\u001b[43m,\u001b[49m\u001b[43m \u001b[49m\u001b[38;5;28;43mself\u001b[39;49m\u001b[38;5;241;43m.\u001b[39;49m\u001b[43msupport\u001b[49m\u001b[38;5;241;43m.\u001b[39;49m\u001b[43melemtype\u001b[49m\u001b[43m)\u001b[49m\n",
      "\u001b[0;31mTypeError\u001b[0m: interpolateOnIntegrationPoints(): incompatible function arguments. The following argument types are supported:\n    1. (self: akantu.py11_akantu.FEEngine, u: AkaArray, uq: AkaArray, nb_degree_of_freedom: int, type: akantu.py11_akantu.ElementType, ghost_type: akantu.py11_akantu.GhostType = <GhostType._not_ghost: 0>, filter_elements: AkaArray = array([], shape=(0, 1), dtype=int32)) -> None\n    2. (self: akantu.py11_akantu.FEEngine, u: AkaArray, uq: akantu.py11_akantu.ElementTypeMapArrayReal, filter_elements: akantu.py11_akantu.ElementTypeMapArrayInt = None) -> None\n\nInvoked with: <akantu.py11_akantu.FEEngine object at 0x7f9be1aa2730>, array([[3., 3.],\n       [3., 3.],\n       [3., 3.],\n       ...,\n       [3., 3.],\n       [3., 3.],\n       [3., 3.]]), <akantu.py11_akantu.ElementTypeMapArrayReal object at 0x7f9be1ab65b0>, 4114, <ElementType._triangle_3: 4>"
     ]
    }
   ],
   "source": [
    "output = aka.ElementTypeMapArrayReal()\n",
    "output.initialize(mesh, nb_component=2)\n",
    "NTF.evalOnQuadraturePoints(output)"
   ]
  },
  {
   "cell_type": "code",
   "execution_count": null,
   "id": "49af8c94-45bd-46d9-81d0-e4f0c12a0eed",
   "metadata": {},
   "outputs": [],
   "source": []
  }
 ],
 "metadata": {
  "kernelspec": {
   "display_name": "Python3",
   "language": "python",
   "name": "python3"
  },
  "language_info": {
   "codemirror_mode": {
    "name": "ipython",
    "version": 3
   },
   "file_extension": ".py",
   "mimetype": "text/x-python",
   "name": "python",
   "nbconvert_exporter": "python",
   "pygments_lexer": "ipython3",
   "version": "3.11.5"
  }
 },
 "nbformat": 4,
 "nbformat_minor": 5
}
